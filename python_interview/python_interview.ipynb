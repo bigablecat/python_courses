{
 "cells": [
  {
   "cell_type": "markdown",
   "metadata": {},
   "source": [
    "# 课程笔记  \n",
    ">《Python笔试题》  \n",
    "课程官方地址  \n",
    "https://www.bilibili.com/video/BV1na411c7vZ  "
   ]
  },
  {
   "cell_type": "markdown",
   "metadata": {},
   "source": [
    "# t_1  "
   ]
  },
  {
   "cell_type": "code",
   "execution_count": null,
   "metadata": {},
   "outputs": [],
   "source": [
    "\"\"\"\n",
    "考点\n",
    "    运算顺序\n",
    "    () ==>not ==> and ==> or\n",
    "    \n",
    "    a or b:\n",
    "        a==False, b\n",
    "        a==True, a\n",
    "        \n",
    "    a and b:\n",
    "        a==True, b\n",
    "        a==False, a\n",
    "    \n",
    "\"\"\"  \n",
    "v1 = 1 or 3  # 1\n",
    "v2 = 1 and 3  # 3\n",
    "v3 = 0 and 2 and 1  # 0\n",
    "v4 = 0 and 2 or 1  # 1\n",
    "v5 = 0 and 2 or 1 or 4  # 1\n",
    "v6 = 0 or False and 1  # False\n",
    "print(v1, v2, v3, v4, v5, v6)"
   ]
  },
  {
   "cell_type": "markdown",
   "metadata": {},
   "source": [
    "# t_2  "
   ]
  },
  {
   "cell_type": "code",
   "execution_count": null,
   "metadata": {},
   "outputs": [],
   "source": [
    "# 计算 a, b 中较大的数\n",
    "a = 10\n",
    "b = 20\n",
    "if a > b:\n",
    "    c = a\n",
    "else:\n",
    "    c = b\n",
    "print(c)\n",
    "\n",
    "c = a if a > b else b\n",
    "print(c)"
   ]
  },
  {
   "cell_type": "markdown",
   "metadata": {},
   "source": [
    "# t_3  "
   ]
  },
  {
   "cell_type": "code",
   "execution_count": null,
   "metadata": {
    "tags": []
   },
   "outputs": [],
   "source": [
    "# 一行代码交换数值\n",
    "a = 10\n",
    "b = 20\n",
    "\n",
    "c = a\n",
    "a = b\n",
    "b = c\n",
    "print(a, b)\n",
    "\n",
    "a = 10\n",
    "b = 20\n",
    "# 实际上使用了元组\n",
    "a, b = b, a\n",
    "print(a, b)\n",
    "\n",
    "# 使用元组再实现一次\n",
    "a, b = (20, 10)\n",
    "print(a, b)"
   ]
  },
  {
   "cell_type": "markdown",
   "metadata": {},
   "source": [
    "# t_4  "
   ]
  },
  {
   "cell_type": "code",
   "execution_count": null,
   "metadata": {
    "tags": []
   },
   "outputs": [],
   "source": [
    "# name = \"abcde\" 反转为 name = \"edcba\"\n",
    "\"\"\"\n",
    "考点：字符串切片\n",
    "[start:end:step]\n",
    "\"\"\"\n",
    "name = \"abcde\"\n",
    "name = name[::-1]\n",
    "print(name)\n"
   ]
  },
  {
   "cell_type": "markdown",
   "metadata": {},
   "source": [
    "# t_5  "
   ]
  },
  {
   "cell_type": "code",
   "execution_count": null,
   "metadata": {
    "tags": []
   },
   "outputs": [],
   "source": [
    "# 列举布尔值为 False 的常见值\n",
    "# 常见数据结构表示空的时候一般都是 False\n",
    "print(bool(0))\n",
    "print(bool([]))\n",
    "print(bool(\"\"))\n",
    "print(bool(tuple()))\n",
    "print(bool(dict()))\n",
    "print(bool(set()))\n",
    "\n",
    "print()\n",
    "\n",
    "\n",
    "# 空函数的布尔值为 True\n",
    "def func():\n",
    "    pass\n",
    "\n",
    "\n",
    "print(bool(func))\n",
    "\n",
    "print()\n",
    "\n",
    "\n",
    "class MyClass:\n",
    "    pass\n",
    "\n",
    "\n",
    "# 空类的布尔值是 True\n",
    "print(bool(MyClass))\n",
    "# 空类的实例，布尔值是 True\n",
    "print(bool(MyClass()))\n",
    "\n",
    "print()\n",
    "\n",
    "\n",
    "class MyClass:\n",
    "    def __bool__(self):\n",
    "        return False\n",
    "\n",
    "\n",
    "# 类的 __bool__ 函数返回值设为 False，类的布尔值是 True\n",
    "print(bool(MyClass))\n",
    "# 对象根据类的 __bool__ 值判断\n",
    "print(bool(MyClass()))\n",
    "\n",
    "print()\n",
    "\n",
    "\n",
    "class MClass(type):\n",
    "    def __bool__(self):\n",
    "        return False\n",
    "\n",
    "\n",
    "class MyClass(metaclass=MClass):\n",
    "    pass\n",
    "\n",
    "\n",
    "# 如果给了元类 metaclass，根据元类的 __bool__ 值判断\n",
    "print(bool(MyClass))"
   ]
  },
  {
   "cell_type": "markdown",
   "metadata": {},
   "source": [
    "# t_6  "
   ]
  },
  {
   "cell_type": "code",
   "execution_count": null,
   "metadata": {},
   "outputs": [],
   "source": [
    "# is 和 == 的区别\n",
    "\"\"\"\n",
    "is 判断内存地址\n",
    "== 判断值\n",
    "\"\"\"\n",
    "lst1 = [1, 2, 3]\n",
    "lst2 = [1, 2, 3]\n",
    "print(lst1 is lst2)\n",
    "print(lst1 == lst2)\n",
    "\n",
    "print()\n",
    "\n",
    "s1 = \"你好啊\"\n",
    "s2 = \"你好啊\"\n",
    "\n",
    "# 字符串在内存中保存在常量池，相同内容的字符串内存地址也一样\n",
    "\n",
    "print(s1 is s2)\n",
    "print(s1 == s2)"
   ]
  },
  {
   "cell_type": "markdown",
   "metadata": {},
   "source": [
    "# t_7  "
   ]
  },
  {
   "cell_type": "code",
   "execution_count": null,
   "metadata": {},
   "outputs": [],
   "source": [
    "# 1, 2, 3, 4, 5 能组成多少个互不相同的三位数\n",
    "lst = []\n",
    "# 创建一个集合，包含指定的 5 个数字\n",
    "nums = {1, 2, 3, 4, 5}\n",
    "# 遍历所有的三位数\n",
    "for i in range(100, 1000):\n",
    "    # 将三位数的每位上的数取出放入 set\n",
    "    num = set(int(j) for j in str(i))\n",
    "    # 与 nums 取差集，如果差集为空，说明当前三位数中的每个数都属于 nums 中的元素\n",
    "    if not num - nums:\n",
    "        lst.append(num)\n",
    "\n",
    "# 输出结果 125\n",
    "print(len(lst))"
   ]
  },
  {
   "cell_type": "markdown",
   "metadata": {},
   "source": [
    "# t_8  "
   ]
  },
  {
   "cell_type": "code",
   "execution_count": null,
   "metadata": {},
   "outputs": [],
   "source": [
    "v = dict.fromkeys(['k1', 'k2'], [])\n",
    "# 输出结果 {'k1': [], 'k2': []}\n",
    "# 此时 k1 和 k2 对应的 value 指向同一个内存地址\n",
    "print(v)\n",
    "\n",
    "print()\n",
    "# append 是对 k1 和 k2 的同一个对象操作\n",
    "v['k1'].append(666)\n",
    "# 输出结果 {'k1': [666], 'k2': [666]}\n",
    "print(v)\n",
    "# 打印内存地址\n",
    "print(id(v['k1']))\n",
    "print(id(v['k2']))\n",
    "\n",
    "\n",
    "print()\n",
    "# 为 k2 对应的 value 重新赋值\n",
    "# 内存地址发生了变化\n",
    "v['k2'] = [888]\n",
    "# 输出结果 {'k1': [666], 'k2': [888]}\n",
    "print(v)\n",
    "# 打印内存地址\n",
    "print(id(v['k1']))\n",
    "print(id(v['k2']))\n"
   ]
  },
  {
   "cell_type": "markdown",
   "metadata": {},
   "source": [
    "# t_9  "
   ]
  },
  {
   "cell_type": "code",
   "execution_count": null,
   "metadata": {},
   "outputs": [],
   "source": [
    "# 一行代码删除列表中重复的值\n",
    "lst = [\"Mike\", \"Jane\", \"Lucy\", \"Lily\", \"Mike\"]\n",
    "# 借助 set 集合\n",
    "s = list(set(lst))\n",
    "print(s)"
   ]
  },
  {
   "cell_type": "markdown",
   "metadata": {},
   "source": [
    "# t_10  "
   ]
  },
  {
   "cell_type": "code",
   "execution_count": null,
   "metadata": {},
   "outputs": [],
   "source": [
    "# 如何实现 \"1,2,3\" 变成 [\"1\", \"2\", \"3\"]\n",
    "# 如何实现 [\"1\", \"2\", \"3\"] 变成 [1, 2, 3]\n",
    "\n",
    "# split() 字符串分割\n",
    "s = \"1,2,3\"\n",
    "lst = s.split(\",\")\n",
    "print(lst)\n",
    "\n",
    "# 用列表推导式\n",
    "lst2 = [int(item) for item in lst]\n",
    "print(lst2)"
   ]
  },
  {
   "cell_type": "markdown",
   "metadata": {},
   "source": [
    "# t_11  "
   ]
  },
  {
   "cell_type": "code",
   "execution_count": null,
   "metadata": {},
   "outputs": [],
   "source": [
    "# a = [1, 2, 3]\n",
    "# b = [(1), (2), (3)]\n",
    "# c = [(1,), (2,), (3,)]\n",
    "# 问: a, b, c 有什么区别\n",
    "\n",
    "# 元组中只有一个数据，元组最后一个元素必须跟上一个逗号\n",
    "b = (1,)\n",
    "print(type(b))"
   ]
  },
  {
   "cell_type": "markdown",
   "metadata": {},
   "source": [
    "# t_12  "
   ]
  },
  {
   "cell_type": "code",
   "execution_count": null,
   "metadata": {},
   "outputs": [],
   "source": [
    "# 如何用一行代码生成 [1, 4, 9, 16, 25, 36, 49, 64, 81, 100]\n",
    "lst = [i ** 2 for i in range(1, 11)]\n",
    "print(lst)"
   ]
  },
  {
   "cell_type": "markdown",
   "metadata": {},
   "source": [
    "# t_13  "
   ]
  },
  {
   "cell_type": "code",
   "execution_count": null,
   "metadata": {},
   "outputs": [],
   "source": [
    "\"\"\"\n",
    "合并字符串列表 a 和 b\n",
    "\n",
    "a = ['a,1', 'b,3,22', 'c,3,4']\n",
    "\n",
    "b = ['a,2', 'b,1', 'd,2']\n",
    "\n",
    "c = ['a,1,2', 'b,3,22,1', 'c,3,4', 'd,2']\n",
    "\n",
    "\"\"\"\n",
    "a = ['a,1', 'b,3,22', 'c,3,4']\n",
    "\n",
    "b = ['a,2', 'b,1', 'd,2']\n",
    "\n",
    "for b_i in range(len(b)):\n",
    "    for a_i in range(len(b)):\n",
    "        if a[a_i][0] == b[b_i][0]:\n",
    "            a[a_i] += b[b_i][1:]\n",
    "            break\n",
    "    else:\n",
    "        a.append(b[b_i])\n",
    "\n",
    "print(a)"
   ]
  },
  {
   "cell_type": "markdown",
   "metadata": {},
   "source": [
    "# t_14  "
   ]
  },
  {
   "cell_type": "code",
   "execution_count": null,
   "metadata": {},
   "outputs": [],
   "source": [
    "\"\"\"\n",
    "有一个多层嵌套列表\n",
    "A = [1,2,[3,4,[\"434\",...]]]\n",
    "打印 A 中的所有元素\n",
    "\"\"\"\n",
    "A = [1, 2, [3, 4, [\"434\"]]]\n",
    "for item in A:\n",
    "    if type(item) == list:\n",
    "        A.extend(item)\n",
    "    else:\n",
    "        print(item)\n",
    "\n",
    "print(A)"
   ]
  },
  {
   "cell_type": "markdown",
   "metadata": {},
   "source": [
    "# t_15  "
   ]
  },
  {
   "cell_type": "code",
   "execution_count": null,
   "metadata": {},
   "outputs": [],
   "source": [
    "\"\"\"\n",
    "将列表内的元素，根据位数合并成字典\n",
    "lst = [1, 2, 4, 8, 16, 32, 64, 128, 256, 512, 1024, 2048, 4096, 8192, 16384, 32768, 65536, 4294967296]\n",
    "\n",
    "# 输出\n",
    "{\n",
    "    1: [1, 2, 4, 8],\n",
    "    2: [16, 32, 64],\n",
    "    3: [128, 256, 512],\n",
    "    4: [1024, 2048, 4096, 8192],\n",
    "    5: [16384, 32768, 65536],\n",
    "    10: [4294967296]\n",
    "}\n",
    "\"\"\"\n",
    "\n",
    "lst = [1, 2, 4, 8, 16, 32, 64, 128, 256, 512, 1024, 2048, 4096, 8192, 16384, 32768, 65536, 4294967296]\n",
    "\n",
    "dic = {}\n",
    "\n",
    "for item in lst:\n",
    "    item_len = len(str(item))\n",
    "    num_list = dic.setdefault(item_len, [])\n",
    "    num_list.append(item)\n",
    "\n",
    "print(dic)"
   ]
  },
  {
   "cell_type": "markdown",
   "metadata": {},
   "source": [
    "# t_16  "
   ]
  },
  {
   "cell_type": "code",
   "execution_count": null,
   "metadata": {},
   "outputs": [],
   "source": [
    "\"\"\"\n",
    "用尽量简洁的方法合并列表\n",
    "lst1 = [[1, 2, 3], [4, 5, 6], [7, 8, 9]]\n",
    "\n",
    "合并后\n",
    "lst2 = [1, 2, 3, 4, 5, 6, 7, 8, 9]\n",
    "\n",
    "\"\"\"\n",
    "\n",
    "lst1 = [[1, 2, 3], [4, 5, 6], [7, 8, 9]]\n",
    "\n",
    "# 列表相加\n",
    "lst2 = []\n",
    "for lst in lst1:\n",
    "    lst2 += lst\n",
    "\n",
    "print(lst2)\n",
    "\n",
    "# reduce 函数\n",
    "from functools import reduce\n",
    "\n",
    "# x + y 的结果会赋值给 x\n",
    "lst2 = list(reduce(lambda x, y: x + y, lst1))\n",
    "\n",
    "print(lst2)\n",
    "\n",
    "# chain 方法\n",
    "from itertools import chain\n",
    "\n",
    "lst2 = list(chain.from_iterable(lst1))\n",
    "print(lst2)\n",
    "\n",
    "# sum 方法\n",
    "# 第二个参数作为初始值，会和第一个参数中的元素逐个相加\n",
    "lst2 = sum(lst1, [])\n",
    "print(lst2)"
   ]
  },
  {
   "cell_type": "markdown",
   "metadata": {},
   "source": [
    "# t_17  "
   ]
  },
  {
   "cell_type": "code",
   "execution_count": null,
   "metadata": {},
   "outputs": [],
   "source": [
    "\"\"\"\n",
    "将列表按规则排序，补全代码\n",
    "1. 正数在前，负数在后\n",
    "2. 正数从小到大\n",
    "3. 负数从大到小\n",
    "\n",
    "排序前\n",
    "[7, -8, 5, 4, 0, -2, -5]\n",
    "\n",
    "排序后\n",
    "[0, 4, 5, 7, -2, -5, -8]\n",
    "\n",
    "# 补全代码\n",
    "sorted(lst, key=lambda x:_______)\n",
    "\n",
    "\"\"\"\n",
    "# x < 0 ==> -8<0 == False == 1\n",
    "# abs(x) ==> abs(-8) == 8\n",
    "#   (0,7), (1,8) ...\n",
    "lst = [7, -8, 5, 4, 0, -2, -5]\n",
    "\n",
    "res = sorted(lst, key=lambda x: (x < 0, abs(x)))\n",
    "print(res)"
   ]
  },
  {
   "cell_type": "markdown",
   "metadata": {},
   "source": [
    "# t_18  "
   ]
  },
  {
   "cell_type": "code",
   "execution_count": null,
   "metadata": {},
   "outputs": [],
   "source": [
    "\"\"\"\n",
    "a = [1, 2, 3, [4, 5], 6]\n",
    "b = a # 没有拷贝\n",
    "c = copy.copy(a) # 浅拷贝, [4, 5] 仍然是共享\n",
    "d = copy.deepcopy(a) # 深拷贝，d 与 a 完全没有共享\n",
    "\n",
    "b.append(10)\n",
    "c[3].append(11)\n",
    "d[3].append(12)\n",
    "\n",
    "请问 a, b, c, d 的值为\n",
    "\n",
    "\"\"\"\n",
    "import copy\n",
    "\n",
    "a = [1, 2, 3, [4, 5], 6]\n",
    "b = a  # 没有拷贝，共享所有数据\n",
    "c = copy.copy(a)  # 浅拷贝, [4, 5] 仍然是共享\n",
    "d = copy.deepcopy(a)  # 深拷贝，d 与 a 完全没有共享\n",
    "\n",
    "# b 与 a 完全共享数据\n",
    "# 经过操作后\n",
    "# a = [1, 2, 3, [4, 5], 6, 10]\n",
    "# b = [1, 2, 3, [4, 5], 6, 10]\n",
    "b.append(10)\n",
    "\n",
    "# c[3] = [4, 5]，这部分数据 a 和 c 是共享的\n",
    "# 操作之后\n",
    "# a = [1, 2, 3, [4, 5, 11], 6, 10]\n",
    "# c = [1, 2, 3, [4, 5, 11], 6]\n",
    "# b = [1, 2, 3, [4, 5, 11], 6, 10]\n",
    "c[3].append(11)\n",
    "\n",
    "# d[3] = [4, 5]，a 和 d 的所有数据都没有共享\n",
    "# 操作之后\n",
    "# a = [1, 2, 3, [4, 5, 11], 6, 10]\n",
    "# d = [1, 2, 3, [4, 5, 12], 6]\n",
    "d[3].append(12)\n",
    "\n",
    "print(a)\n",
    "print(b)\n",
    "print(c)\n",
    "print(d)\n"
   ]
  },
  {
   "cell_type": "markdown",
   "metadata": {},
   "source": [
    "# t_19  "
   ]
  },
  {
   "cell_type": "code",
   "execution_count": null,
   "metadata": {},
   "outputs": [],
   "source": [
    "\"\"\"\n",
    "给定两个 list\n",
    "找出 A，B 中相同和不同的元素\n",
    "\"\"\"\n",
    "\n",
    "# 所有与交集并集相关的操作都用 set\n",
    "A = [1, 2, 3]\n",
    "B = [2, 3, 4]\n",
    "\n",
    "a = set(A)\n",
    "b = set(B)\n",
    "\n",
    "# 交集\n",
    "print(a & b)\n",
    "\n",
    "# 反交集\n",
    "print(a ^ b)\n",
    "\n",
    "# 并集\n",
    "print(a | b)\n",
    "\n",
    "# 差集\n",
    "print(a - b)"
   ]
  },
  {
   "cell_type": "markdown",
   "metadata": {},
   "source": [
    "# t_20  "
   ]
  },
  {
   "cell_type": "markdown",
   "metadata": {},
   "source": [
    "```\n",
    "\"\"\"\n",
    "一个栈的输入序列为 1, 2, 3, 4, 5，下列序列中不可能是栈的输出序列的是\n",
    "\n",
    "A. 1 5 4 3 2\n",
    "B. 2 3 4 1 5\n",
    "C. 1 5 4 2 3\n",
    "D. 2 3 1 4 5\n",
    "\n",
    "栈 先进后出\n",
    "\"\"\"  \n",
    "\n",
    "# A. 1 5 4 3 2\n",
    "# in      | out\n",
    "# 1       |\n",
    "#         | 1\n",
    "# 2       |\n",
    "# 2 3     |\n",
    "# 2 3 4   |\n",
    "# 2 3 4 5 |\n",
    "# 2 3 4   | 1 5\n",
    "# 2 3     | 1 5 4\n",
    "# 2       | 1 5 4 3\n",
    "#         | 1 5 4 3 2 √\n",
    "\n",
    "\n",
    "# B. 2 3 4 1 5\n",
    "# in      | out\n",
    "# 1       |\n",
    "# 1 2     |\n",
    "# 1       | 2\n",
    "# 1 3     | 2\n",
    "# 1       | 2 3\n",
    "# 1 4     | 2 3\n",
    "# 1       | 2 3 4\n",
    "#         | 2 3 4 1\n",
    "# 5       | 2 3 4 1\n",
    "#         | 2 3 4 1 5 √\n",
    "\n",
    "# C. 1 5 4 2 3\n",
    "# in      | out\n",
    "# 1       |\n",
    "#         | 1\n",
    "# 2       |\n",
    "# 2 3     |\n",
    "# 2 3 4   |\n",
    "# 2 3 4 5 |\n",
    "# 2 3 4   | 1 5\n",
    "# 2 3     | 1 5 4\n",
    "# 此时不可能 2 出栈早于 3，所以 1 5 4 2 3 不成立\n",
    "\n",
    "# D. 2 3 1 4 5\n",
    "# in      | out\n",
    "# 1       |\n",
    "# 1 2     |\n",
    "# 1       | 2\n",
    "# 1 3     | 2\n",
    "# 1       | 2 3\n",
    "#         | 2 3 1\n",
    "# 4       | 2 3 1\n",
    "#         | 2 3 1 4\n",
    "# 5       | 2 3 1 4\n",
    "#         | 2 3 1 4 5 √\n",
    "\n",
    "```  "
   ]
  },
  {
   "cell_type": "markdown",
   "metadata": {},
   "source": [
    "# t_21  "
   ]
  },
  {
   "cell_type": "code",
   "execution_count": null,
   "metadata": {},
   "outputs": [],
   "source": [
    "\"\"\"\n",
    "下列程序的输出结果\n",
    "\n",
    "alist = [2, 4, 5, 6, 7]\n",
    "for var in alist:\n",
    "    if var % 2 == 0:\n",
    "        alist.remove(var)\n",
    "\n",
    "print(alist)\n",
    "\"\"\"\n",
    "\n",
    "alist = [2, 4, 5, 6, 7]\n",
    "for var in alist:\n",
    "    if var % 2 == 0:\n",
    "        # 删除元素后，列表剩余元素前移，而指针不变\n",
    "        # 指针后一个元素在下一轮循环时被错过\n",
    "        alist.remove(var)\n",
    "\n",
    "# 输出结果\n",
    "# [4, 5, 7]\n",
    "print(alist)\n",
    "\n",
    "\n",
    "# alist[:] 将 alist 整体做了备份\n",
    "for var in alist[:]:\n",
    "    if var % 2 == 0:\n",
    "        # 删除元素后，列表剩余元素前移，而指针不变\n",
    "        # 指针后一个元素在下一轮循环时被错过\n",
    "        alist.remove(var)\n",
    "\n",
    "# 输出结果\n",
    "# [5, 7]\n",
    "print(alist)\n"
   ]
  },
  {
   "cell_type": "markdown",
   "metadata": {},
   "source": [
    "# t_22  "
   ]
  },
  {
   "cell_type": "code",
   "execution_count": null,
   "metadata": {},
   "outputs": [],
   "source": [
    "\"\"\"\n",
    "3 < 4 < 5 结果\n",
    "\"\"\"\n",
    "\n",
    "# 相当于 3 < 4 and 4 < 5\n",
    "print(3 < 4 < 5)\n"
   ]
  },
  {
   "cell_type": "markdown",
   "metadata": {},
   "source": [
    "# t_23  "
   ]
  },
  {
   "cell_type": "code",
   "execution_count": null,
   "metadata": {},
   "outputs": [],
   "source": [
    "\"\"\"\n",
    "求结果\n",
    "\n",
    "kvps = {\"1\": 1, \"2\": 2}\n",
    "theCopy = kvps\n",
    "kvps[\"1\"] = 5\n",
    "sum_res = kvps[\"1\"] + theCopy[\"1\"]\n",
    "print(sum_res)\n",
    "\"\"\"\n",
    "\n",
    "kvps = {\"1\": 1, \"2\": 2}\n",
    "# 赋值操作让两个变量指向同一个内存地址\n",
    "theCopy = kvps\n",
    "kvps[\"1\"] = 5\n",
    "sum_res = kvps[\"1\"] + theCopy[\"1\"]\n",
    "print(sum_res)\n"
   ]
  },
  {
   "cell_type": "markdown",
   "metadata": {},
   "source": [
    "# t_24   "
   ]
  },
  {
   "cell_type": "code",
   "execution_count": null,
   "metadata": {},
   "outputs": [],
   "source": [
    "\"\"\"\n",
    "求结果\n",
    "\n",
    "names1 = [\"Amir\", \"Barry\", \"Chales\", \"Dao\"]\n",
    "names2 = names1\n",
    "names3 = names1[:]\n",
    "names2[0] = \"Alice\"\n",
    "names3[1] = \"Bob\"\n",
    "sum_res = 0\n",
    "\n",
    "for ls in (names1, names2, names3):\n",
    "    if ls[0] == \"Alice\":\n",
    "        sum_res += 1\n",
    "    if ls[1] == \"Bob\":\n",
    "        sum_res += 10\n",
    "\n",
    "print(sum_res)\n",
    "\"\"\"\n",
    "names1 = [\"Amir\", \"Barry\", \"Chales\", \"Dao\"]\n",
    "# names2 与 names1 指向内存中同一个对象\n",
    "names2 = names1\n",
    "\n",
    "# names3 将 names1 的内容完全复制了一份\n",
    "# 但 names3 与 names1 不是同一个对象\n",
    "names3 = names1[:]\n",
    "\n",
    "# 操作后结果\n",
    "# names1 = [\"Alice\", \"Barry\", \"Chales\", \"Dao\"]\n",
    "# names2 = [\"Alice\", \"Barry\", \"Chales\", \"Dao\"]\n",
    "names2[0] = \"Alice\"\n",
    "\n",
    "# 操作后结果\n",
    "# names3 = [\"Amir\", \"Bob\", \"Chales\", \"Dao\"]\n",
    "names3[1] = \"Bob\"\n",
    "\n",
    "sum_res = 0\n",
    "\n",
    "for ls in (names1, names2, names3):\n",
    "    # names1 和 names2 中各有一个 Alice\n",
    "    if ls[0] == \"Alice\":\n",
    "        sum_res += 1\n",
    "    # names3 中有一个 Bob\n",
    "    if ls[1] == \"Bob\":\n",
    "        sum_res += 10\n",
    "\n",
    "# 最终结果是 12\n",
    "print(sum_res)"
   ]
  },
  {
   "cell_type": "markdown",
   "metadata": {},
   "source": [
    "# t_25  "
   ]
  },
  {
   "cell_type": "code",
   "execution_count": null,
   "metadata": {},
   "outputs": [],
   "source": [
    "\"\"\"\n",
    "1 or 2\n",
    "1 and 2\n",
    "1 < (2==2)\n",
    "1<2 ==2\n",
    "\"\"\"\n",
    "\n",
    "print(1 or 2)\n",
    "print(1 and 2)\n",
    "\n",
    "# (2 == 2) == True == 1\n",
    "# 1 < 1 == False\n",
    "print(1 < (2 == 2))\n",
    "\n",
    "# 1 < 2 == 2 连续使用符号，用 and 连接\n",
    "# 1 < 2 == 2 <==> 1 < 2 and 2 == 2\n",
    "# 1 < 2 == True\n",
    "# (2==2) == True\n",
    "# 1 < 2 and 2 == 2 <==> True and True == True\n",
    "print(1 < 2 == 2)"
   ]
  },
  {
   "cell_type": "markdown",
   "metadata": {},
   "source": [
    "# t_26  "
   ]
  },
  {
   "cell_type": "code",
   "execution_count": null,
   "metadata": {},
   "outputs": [],
   "source": [
    "\"\"\"\n",
    "aaabbcccd 压缩成 a3b2c3d1 形式\n",
    "\"\"\"\n",
    "s = \"aaabbcccd\"\n",
    "f = s[0]\n",
    "count = 1\n",
    "\n",
    "res = \"\"\n",
    "\n",
    "# 从下标 1，即第二个元素开始遍历\n",
    "for i in range(1, len(s)):\n",
    "    if s[i] == f:\n",
    "        count += 1\n",
    "    else:\n",
    "        res += f + str(count)\n",
    "        f = s[i]\n",
    "        count = 1\n",
    "# 添加最后一个结果\n",
    "res += f + str(count)\n",
    "\n",
    "print(res)"
   ]
  },
  {
   "cell_type": "markdown",
   "metadata": {},
   "source": [
    "# t_27  "
   ]
  },
  {
   "cell_type": "code",
   "execution_count": null,
   "metadata": {},
   "outputs": [],
   "source": [
    "\"\"\"\n",
    "一个数恰好等于它的因子之和，称为完数\n",
    "如 6 = 1 + 2 + 3\n",
    "找出 1000 以内所有的完数\n",
    "\"\"\"\n",
    "\n",
    "for n in range(1, 1000):\n",
    "    n_lst = []\n",
    "    for i in range(1, n):\n",
    "        if n % i == 0:\n",
    "            n_lst.append(i)\n",
    "    if sum(n_lst) == n:\n",
    "        print(n, \"是一个完数\", n_lst)"
   ]
  },
  {
   "cell_type": "markdown",
   "metadata": {},
   "source": [
    "# t_28  "
   ]
  },
  {
   "cell_type": "code",
   "execution_count": null,
   "metadata": {},
   "outputs": [],
   "source": [
    "\"\"\"\n",
    "输入一个字符串，输出该字符串中字符的所有组合\n",
    "\n",
    "输入 1,2,3\n",
    "输出 1, 2, 3, 12, 13, 23, 123 组合数不考虑顺序，12 和 21 等价\n",
    "\"\"\"\n",
    "\n",
    "# 二进制映射法\n",
    "# 1, 2, 3\n",
    "# 0, 0, 1 ==> 3     2^1 001\n",
    "# 0, 1, 0 ==> 2     2^2 010\n",
    "# 0, 1, 1 ==> 23    2^3 011\n",
    "# 1, 0, 0 ==> 1     2^4 100\n",
    "# 1, 0, 1 ==> 13    2^5 101\n",
    "# 1, 1, 0 ==> 12    2^6 110\n",
    "# 1, 1, 1 ==> 123   2^7 111\n",
    "\n",
    "s = \"1,2,3\"\n",
    "lst = s.split(\",\")\n",
    "big_result = []\n",
    "\n",
    "length = len(lst)\n",
    "# 获取定长二进制\n",
    "bf = f\"0{length}b\"\n",
    "\n",
    "for i in range(1, 2 ** length):\n",
    "    # 将 i 格式化为定长二进制\n",
    "    # 即 2^i 转为二进制\n",
    "    # 如 2^1 = 2 ==> 001\n",
    "    # 如 2^2 = 4 ==> 010\n",
    "    bs = format(i, bf)\n",
    "\n",
    "    result = []\n",
    "    # 将二进制字符串中 1 位置对应的数字保留\n",
    "    for j in range(0, length):\n",
    "        if bs[j] == \"1\":\n",
    "            result.append(lst[j])\n",
    "    big_result.append(int(\"\".join(result)))\n",
    "\n",
    "big_result.sort()\n",
    "\n",
    "# 正确结果\n",
    "# [1, 2, 3, 12, 13, 23, 123]\n",
    "print(big_result)"
   ]
  },
  {
   "cell_type": "markdown",
   "metadata": {},
   "source": [
    "# t_29  "
   ]
  },
  {
   "cell_type": "code",
   "execution_count": null,
   "metadata": {},
   "outputs": [],
   "source": [
    "\"\"\"\n",
    "给定一个非空字符串，判断是否可以由一个子字符串重复多次组成\n",
    "字符串只包含小写字母且长度不超过 10000\n",
    "\n",
    "示例 1\n",
    "输入 \"abab\"\n",
    "输出 True，输入可以又 ab 重复 2 次组成\n",
    "\n",
    "示例 2\n",
    "输入 \"abcabcabc\"\n",
    "输出 True，输入可以又 abc 重复 3 次组成\n",
    "\n",
    "示例 3\n",
    "输入 \"aba\"\n",
    "输出 False\n",
    "\n",
    "\"\"\"\n",
    "\n",
    "s = \"abcabcabc\"\n",
    "\n",
    "# 最大只要到字符串长度的一半即可，超过一半长度的子串，无法将字符串切割\n",
    "# len(s)//2 + 1，range 左开右闭，所以需要 + 1 以取到最后一位\n",
    "for i in range(2, len(s) // 2 + 1):\n",
    "    # 切分字符串，获得从 0 到下标 i 的子串\n",
    "    sub = s[:i]\n",
    "    # 按子串切分字符串\n",
    "    lst = s.split(sub)\n",
    "    # 重复次数，减去最后一个空元素\n",
    "    repeat = len(lst) - 1\n",
    "    # 找出列表中所有非空元素\n",
    "    lst = [item for item in lst if item != '']\n",
    "    # 如果 lst 为空，说明 lst 中没有非空元素，则 sub 可以完整切分字符串\n",
    "    if len(lst) == 0:\n",
    "        print(True, f\"字符串可以由子串 {sub} 重复 {repeat} 次得到\")\n",
    "        break\n",
    "else:\n",
    "    # for 循环结束，仍然没有找到合适的结果，说明字符串无法由子串拼接而成\n",
    "    print(False)"
   ]
  },
  {
   "cell_type": "markdown",
   "metadata": {},
   "source": [
    "# t_30  "
   ]
  },
  {
   "cell_type": "code",
   "execution_count": null,
   "metadata": {},
   "outputs": [],
   "source": [
    "\"\"\"\n",
    "只使用一行代码\n",
    "通过 filter 和 lambda 函数\n",
    "输出列表索引为奇数的元素\n",
    "\n",
    "list_a = [12, 213, 22, 2, 2, 2, 22, 2, 2, 2, 32]\n",
    "\"\"\"\n",
    "list_a = [12, 213, 22, 2, 2, 2, 22, 2, 2, 2, 32]\n",
    "\n",
    "# (i for i in range(len(list_a)))) 获取列表中元素的下标\n",
    "# x % 2 == 1 将奇数下标摘取出来\n",
    "list_b = [list_a[y] for y in filter(lambda x: x % 2 == 1, (i for i in range(len(list_a))))]\n",
    "print(list_b)"
   ]
  },
  {
   "cell_type": "markdown",
   "metadata": {},
   "source": [
    "# t_31  "
   ]
  },
  {
   "cell_type": "code",
   "execution_count": null,
   "metadata": {},
   "outputs": [],
   "source": [
    "\"\"\"\n",
    "写一个 base62encode 函数，计算 62 进制\n",
    "0123456789ABCDEFGHIJKLMNOPQRSTUVWXYZabcdefghijklmnopqrstuvwxzy\n",
    "共 10 个数字，26 个大写字母，26 个小写字母\n",
    "\n",
    "base62encode(1) = 1\n",
    "base62encode(61) = z\n",
    "base62encode(62) = 10\n",
    "\n",
    "\"\"\"\n",
    "\n",
    "\n",
    "def base62encode(n):\n",
    "    s = \"0123456789ABCDEFGHIJKLMNOPQRSTUVWXYZabcdefghijklmnopqrstuvwxyz\"\n",
    "    lst = []\n",
    "    while n > 0:\n",
    "        # 获取 n 除以 62 的余数\n",
    "        y = n % 62\n",
    "        # 用余数从字符串中获取对应的字符\n",
    "        # 将字符存入列表\n",
    "        lst.append(s[y])\n",
    "        # n 整除后递减\n",
    "        n //= 62\n",
    "    # 将列表逆序 lst[::-1]\n",
    "    return \"\".join(lst[::-1])\n",
    "\n",
    "\n",
    "# 输出结果\n",
    "# 1\n",
    "# z\n",
    "# 10\n",
    "# 2z\n",
    "print(base62encode(1))\n",
    "print(base62encode(61))\n",
    "print(base62encode(62))\n",
    "print(base62encode(185))"
   ]
  },
  {
   "cell_type": "markdown",
   "metadata": {},
   "source": [
    "# t_32  "
   ]
  },
  {
   "cell_type": "code",
   "execution_count": null,
   "metadata": {},
   "outputs": [],
   "source": [
    "\"\"\"\n",
    "装饰器，限制函数被执行次数，如 10 秒 1次\n",
    "\"\"\"\n",
    "\n",
    "import time\n",
    "\n",
    "\n",
    "def wrapper(fn):\n",
    "    # 上一次访问时间\n",
    "    start = 0\n",
    "\n",
    "    def inner(*args, **kwargs):\n",
    "        # nonlocal 关键字表示该变量来自当前函数外部\n",
    "        nonlocal start\n",
    "        # 获取当前时间\n",
    "        now = time.time()\n",
    "        # 当前时间与开始时间的差值大于 10 秒时，才允许访问\n",
    "        if now - start > 10:\n",
    "            ret = fn(*args, **kwargs)\n",
    "            # 更新 start\n",
    "            start = now\n",
    "            return ret\n",
    "        else:\n",
    "            print(f\"访问过于频繁，请 {10 - int(now - start)} 秒后重新访问\")\n",
    "\n",
    "    return inner\n",
    "\n",
    "\n",
    "@wrapper\n",
    "def func():\n",
    "    print(\"play game\")\n",
    "\n",
    "\n",
    "func()\n",
    "time.sleep(2)\n",
    "\n",
    "func()\n",
    "time.sleep(2)\n",
    "\n",
    "func()\n",
    "time.sleep(2)\n",
    "\n",
    "func()\n",
    "time.sleep(2)\n",
    "\n",
    "func()\n",
    "time.sleep(2)\n",
    "\n",
    "func()"
   ]
  },
  {
   "cell_type": "markdown",
   "metadata": {},
   "source": [
    "# t_33  "
   ]
  },
  {
   "cell_type": "code",
   "execution_count": null,
   "metadata": {},
   "outputs": [],
   "source": [
    "\"\"\"\n",
    "实现一个装饰器，通过一次调用重复执行 5 次\n",
    "\"\"\"\n",
    "\n",
    "\n",
    "def wrapper(fn):\n",
    "    def inner(*args, **kwargs):\n",
    "        ret = None\n",
    "        for i in range(5):\n",
    "            ret = fn(*args, **kwargs)\n",
    "        return ret\n",
    "\n",
    "    return inner()\n",
    "\n",
    "\n",
    "@wrapper\n",
    "def func():\n",
    "    print(\"play game\")\n"
   ]
  },
  {
   "cell_type": "code",
   "execution_count": null,
   "metadata": {},
   "outputs": [],
   "source": []
  }
 ],
 "metadata": {
  "kernelspec": {
   "display_name": "Python 3",
   "language": "python",
   "name": "python3"
  },
  "language_info": {
   "codemirror_mode": {
    "name": "ipython",
    "version": 3
   },
   "file_extension": ".py",
   "mimetype": "text/x-python",
   "name": "python",
   "nbconvert_exporter": "python",
   "pygments_lexer": "ipython3",
   "version": "3.7.6"
  }
 },
 "nbformat": 4,
 "nbformat_minor": 4
}
