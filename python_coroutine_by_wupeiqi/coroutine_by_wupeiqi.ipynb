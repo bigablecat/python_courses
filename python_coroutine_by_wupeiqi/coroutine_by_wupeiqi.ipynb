{
 "cells": [
  {
   "cell_type": "markdown",
   "metadata": {},
   "source": [
    "# 课程笔记  \n",
    ">《协程 & asyncio & 异步》 武沛齐  \n",
    "课程官方地址  \n",
    "https://www.bilibili.com/video/BV1dD4y127bD  "
   ]
  },
  {
   "cell_type": "markdown",
   "metadata": {},
   "source": [
    "# 1. 协程  \n",
    "* 不是计算机提供，程序员人为创造  \n",
    "* 也可以称为微线程，一种用户态内上下文切换的技术  \n",
    "* 通过一个线程实现代码块切换执行  "
   ]
  },
  {
   "cell_type": "markdown",
   "metadata": {},
   "source": [
    "## 实现协程的几种方式  \n",
    "* greenlet 早期模块  \n",
    "* yield 关键字  \n",
    "* asyncio 装饰器 v3.4  \n",
    "* async，await 关键字 v3.5  "
   ]
  },
  {
   "cell_type": "markdown",
   "metadata": {
    "tags": []
   },
   "source": [
    "## greenlet 实现协程  "
   ]
  },
  {
   "cell_type": "code",
   "execution_count": null,
   "metadata": {},
   "outputs": [],
   "source": [
    "from greenlet import greenlet\n",
    "\n",
    "\n",
    "def func1():\n",
    "    print(1)  # 第 2 步，输出 1\n",
    "    gr2.switch()  # 第 3 步，切换到 func2 函数\n",
    "    print(2)  # 第 6 步，输出 2\n",
    "    gr2.switch()  # 第 7 步，切换到 func2 函数，从上一次执行的位置继续向后执行\n",
    "\n",
    "\n",
    "def func2():\n",
    "    print(3)  # 第 4 步，输出 3\n",
    "    gr1.switch()  # 第 5 步，切换到 func1 函数，从上一次执行的位置继续向后执行\n",
    "    print(4)  # 第 8 步，输出 4\n",
    "\n",
    "\n",
    "gr1 = greenlet(func1)\n",
    "gr2 = greenlet(func2)\n",
    "\n",
    "gr1.switch()  # 第 1 步，执行 func1 函数"
   ]
  },
  {
   "cell_type": "markdown",
   "metadata": {
    "tags": []
   },
   "source": [
    "## yield 关键字实现  "
   ]
  },
  {
   "cell_type": "code",
   "execution_count": null,
   "metadata": {},
   "outputs": [],
   "source": [
    "def func1():\n",
    "    yield 1\n",
    "    yield from func2()\n",
    "    yield 2\n",
    "    \n",
    "def func2():\n",
    "    yield 3\n",
    "    yield 4\n",
    "\n",
    "f1 = func1()\n",
    "for item in f1:\n",
    "    print(item)"
   ]
  },
  {
   "cell_type": "markdown",
   "metadata": {},
   "source": [
    "## asyncio"
   ]
  },
  {
   "cell_type": "markdown",
   "metadata": {},
   "source": [
    "* 在 python 3.4 之后  \n",
    "* 遇到 IO 自动切换  "
   ]
  },
  {
   "cell_type": "code",
   "execution_count": null,
   "metadata": {},
   "outputs": [],
   "source": [
    "import nest_asyncio\n",
    "\n",
    "# 因 jupyter 中已经运行了 event loop\n",
    "# 为保证与 IDE 写法一致，用 nest_asyncio.apply() 封装 event_loop\n",
    "# 当前语句运行后对整个 notebook 文件都有效\n",
    "# 重启或关闭后，需要重新运行当前 cell 保证后面语句运行正常\n",
    "nest_asyncio.apply()"
   ]
  },
  {
   "cell_type": "code",
   "execution_count": null,
   "metadata": {},
   "outputs": [],
   "source": [
    "import asyncio\n",
    "\n",
    "\n",
    "@asyncio.coroutine\n",
    "def func1():\n",
    "    print(1)\n",
    "    # 假设是网络 IO 请求，下载一张图片\n",
    "    # 遇到 IO 耗时操作自动化切换到 tasks 中的其他任务\n",
    "    yield from asyncio.sleep(2)\n",
    "    print(2)\n",
    "    \n",
    "@asyncio.coroutine\n",
    "def func2():\n",
    "    print(3)\n",
    "    # 假设是网络 IO 请求，下载一张图片\n",
    "    # 遇到 IO 耗时操作自动化切换到 tasks 中的其他任务\n",
    "    yield from asyncio.sleep(2)\n",
    "    print(4)\n",
    "\n",
    "tasks = [asyncio.ensure_future(func1()),\n",
    "        asyncio.ensure_future(func2())\n",
    "]\n",
    "\n",
    "loop = asyncio.get_event_loop()\n",
    "loop.run_until_complete(asyncio.wait(tasks))"
   ]
  },
  {
   "cell_type": "markdown",
   "metadata": {},
   "source": [
    "## async & await 关键字  "
   ]
  },
  {
   "cell_type": "markdown",
   "metadata": {},
   "source": [
    "* python 3.5 之后  \n",
    "* async 关键字替代 @asyncio.coroutine 装饰器  \n",
    "* await 关键字替代 yield from  "
   ]
  },
  {
   "cell_type": "code",
   "execution_count": null,
   "metadata": {},
   "outputs": [],
   "source": [
    "import asyncio\n",
    "\n",
    "async def func1():\n",
    "    print(1)\n",
    "    # 假设是网络 IO 请求，下载一张图片\n",
    "    # 遇到 IO 耗时操作自动化切换到 tasks 中的其他任务\n",
    "    await asyncio.sleep(2)\n",
    "    print(2)\n",
    "    \n",
    "async def func2():\n",
    "    print(3)\n",
    "    # 假设是网络 IO 请求，下载一张图片\n",
    "    # 遇到 IO 耗时操作自动化切换到 tasks 中的其他任务\n",
    "    await asyncio.sleep(2)\n",
    "    print(4)\n",
    "\n",
    "tasks = [asyncio.ensure_future(func1()),\n",
    "        asyncio.ensure_future(func2())\n",
    "]\n",
    "\n",
    "loop = asyncio.get_event_loop()\n",
    "loop.run_until_complete(asyncio.wait(tasks))"
   ]
  },
  {
   "cell_type": "markdown",
   "metadata": {},
   "source": [
    "# 2. 协程的意义  "
   ]
  },
  {
   "cell_type": "markdown",
   "metadata": {},
   "source": [
    "* 线程利用 IO 等待时间切换到其他程序  "
   ]
  },
  {
   "cell_type": "markdown",
   "metadata": {},
   "source": [
    "## 案例 下载三张图片  "
   ]
  },
  {
   "cell_type": "markdown",
   "metadata": {},
   "source": [
    "* 普通方式（同步）  "
   ]
  },
  {
   "cell_type": "code",
   "execution_count": null,
   "metadata": {},
   "outputs": [],
   "source": [
    "import requests\n",
    "\n",
    "def download_image(url):\n",
    "    print(\"开始下载\", url)\n",
    "    # 发送网络请求，下载图片\n",
    "    response = requests.get(url)\n",
    "    print(\"下载完成\")\n",
    "    # 图片保存到本地文件\n",
    "    file_name = url.rsplit('/')[-1]\n",
    "    print(file_name)\n",
    "    with open(file_name, mode='wb') as file_object:\n",
    "        file_object.write(response.content)\n",
    "        \n",
    "if __name__ == '__main__':\n",
    "    url_list = ['https://www.apache.org/img/support-apache.jpg',\n",
    "               'https://www.python.org/static/img/python-logo.png',\n",
    "               'https://www.linux.org/images/logo.png']\n",
    "    \n",
    "    for item in url_list:\n",
    "        download_image(item)"
   ]
  },
  {
   "cell_type": "markdown",
   "metadata": {},
   "source": [
    "* 协程方式（异步）  "
   ]
  },
  {
   "cell_type": "code",
   "execution_count": null,
   "metadata": {},
   "outputs": [],
   "source": [
    "import asyncio\n",
    "\n",
    "import aiohttp\n",
    "\n",
    "\n",
    "async def fetch(session, url):\n",
    "    print(\"发送请求\", url)\n",
    "    async with session.get(url, verify_ssl=False) as response:\n",
    "        content = await response.content.read()\n",
    "        file_name = url.rsplit('/')[-1]\n",
    "        with open(file_name, mode='wb') as file_object:\n",
    "            file_object.write(content)\n",
    "        print('下载完成', url)\n",
    "        \n",
    "async def main():\n",
    "    async with aiohttp.ClientSession() as session:\n",
    "        url_list = ['https://www.apache.org/img/support-apache.jpg',\n",
    "               'https://www.python.org/static/img/python-logo.png',\n",
    "               'https://www.linux.org/images/logo.png']\n",
    "        \n",
    "        tasks = [asyncio.create_task(fetch(session, url)) for url in url_list]\n",
    "        \n",
    "        await asyncio.wait(tasks)\n",
    "        \n",
    "if __name__=='__main__':\n",
    "    asyncio.run(main())"
   ]
  },
  {
   "cell_type": "markdown",
   "metadata": {
    "tags": []
   },
   "source": [
    "# 3. 异步编程  "
   ]
  },
  {
   "cell_type": "markdown",
   "metadata": {},
   "source": [
    "## 3.1 事件循环  "
   ]
  },
  {
   "cell_type": "markdown",
   "metadata": {},
   "source": [
    "* 理解成一个死循环，检测并执行某些代码  "
   ]
  },
  {
   "cell_type": "markdown",
   "metadata": {},
   "source": [
    "```\n",
    "#伪代码\n",
    "任务列表 = [任务1, 任务2, 任务3, ...]\n",
    "\n",
    "while True:\n",
    "    可执行的任务列表, 已完成的任务列表 = 去任务列表里检查所有的任务，将“可执行”和“已完成”的任务返回\n",
    "    \n",
    "    for 就绪任务 in 已准备就绪的任务列表:\n",
    "        执行已就绪的任务\n",
    "\n",
    "    for 已完成的任务 in 已完成的任务列表:\n",
    "        在任务列表中移除 已完成的任务\n",
    "        \n",
    "    如果 任务列表中的任务都已经完成，则终止循环\n",
    "\n",
    "```  "
   ]
  },
  {
   "cell_type": "markdown",
   "metadata": {},
   "source": [
    "```python\n",
    "import asyncio\n",
    "\n",
    "# 生成或获取一个事件循环\n",
    "loop = asyncio.get_event_loop()\n",
    "# 将任务放到任务列表\n",
    "loop.run_until_complete(tasks)\n",
    "```"
   ]
  },
  {
   "cell_type": "markdown",
   "metadata": {},
   "source": [
    "## 3.2 快速上手  "
   ]
  },
  {
   "cell_type": "markdown",
   "metadata": {},
   "source": [
    "* 协程函数：async 关键字修饰的函数  \n",
    "* 协程对象：执行协程函数得到的对象  "
   ]
  },
  {
   "cell_type": "markdown",
   "metadata": {},
   "source": [
    "```python\n",
    "async def func():\n",
    "    pass\n",
    "\n",
    "result = func()\n",
    "```  "
   ]
  },
  {
   "cell_type": "markdown",
   "metadata": {},
   "source": [
    "* 执行协程函数，只创建协程对象，函数内部代码不会执行  \n",
    "* 运行协程函数内部代码，必须将协程对象交给事件循环来处理  "
   ]
  },
  {
   "cell_type": "markdown",
   "metadata": {},
   "source": [
    "### python 3.7 之前的写法"
   ]
  },
  {
   "cell_type": "markdown",
   "metadata": {},
   "source": [
    "```python\n",
    "import asyncio\n",
    "\n",
    "async def func():\n",
    "    print(\"hello world\")\n",
    "\n",
    "result = func()\n",
    "\n",
    "# python 3.7 之前的写法\n",
    "loop = asyncio.get_event_loop()\n",
    "loop.run_until_complete(result)\n",
    "```"
   ]
  },
  {
   "cell_type": "markdown",
   "metadata": {},
   "source": [
    "### python 3.7 之后的写法  "
   ]
  },
  {
   "cell_type": "code",
   "execution_count": null,
   "metadata": {},
   "outputs": [],
   "source": [
    "import asyncio\n",
    "\n",
    "\n",
    "async def func():\n",
    "    print(\"hello world\")\n",
    "\n",
    "result = func()\n",
    "\n",
    "# python 3.7 及之后的写法\n",
    "# 本质与 asyncio.get_event_loop() 一样，只是简化了写法\n",
    "asyncio.run(result)"
   ]
  },
  {
   "cell_type": "markdown",
   "metadata": {},
   "source": [
    "## 3.3 await()  "
   ]
  },
  {
   "cell_type": "markdown",
   "metadata": {},
   "source": [
    "* await + 可等待对象(协程对象，Future，Task 对象-->IO 等待)  "
   ]
  },
  {
   "cell_type": "markdown",
   "metadata": {},
   "source": [
    "### 示例 1  "
   ]
  },
  {
   "cell_type": "code",
   "execution_count": null,
   "metadata": {},
   "outputs": [],
   "source": [
    "import asyncio\n",
    "\n",
    "\n",
    "async def func():\n",
    "    print(\"hello world\")\n",
    "    response = await asyncio.sleep(2)\n",
    "    print(\"结束\", response)\n",
    "    \n",
    "asyncio.run(func())"
   ]
  },
  {
   "cell_type": "markdown",
   "metadata": {},
   "source": [
    "### 示例 2  "
   ]
  },
  {
   "cell_type": "code",
   "execution_count": null,
   "metadata": {},
   "outputs": [],
   "source": [
    "import asyncio\n",
    "\n",
    "\n",
    "async def others():\n",
    "    print(\"IO start\")\n",
    "    await asyncio.sleep(2)\n",
    "    print(\"IO end\")\n",
    "    return \"IO 操作返回值\"\n",
    "\n",
    "async def func():\n",
    "    print(\"执行协程函数内部代码\")\n",
    "    \n",
    "    # 遇到 IO 挂起当前协程\n",
    "    # IO 操作完成之后再继续往下执行\n",
    "    # 协程挂起时，事件循环可以去执行其他协程\n",
    "    response = await others()\n",
    "    \n",
    "    print(\"IO 请求结束，结果为：\", response)\n",
    "    \n",
    "asyncio.run(func())"
   ]
  },
  {
   "cell_type": "markdown",
   "metadata": {},
   "source": [
    "### 示例 3  "
   ]
  },
  {
   "cell_type": "code",
   "execution_count": null,
   "metadata": {},
   "outputs": [],
   "source": [
    "import asyncio\n",
    "\n",
    "\n",
    "async def others():\n",
    "    print(\"IO start\")\n",
    "    await asyncio.sleep(2)\n",
    "    print(\"IO end\")\n",
    "    return \"IO 操作返回值\"\n",
    "\n",
    "async def func():\n",
    "    print(\"执行协程函数内部代码\")\n",
    "    \n",
    "    # 遇到 IO 挂起当前协程\n",
    "    # IO 操作完成之后再继续往下执行\n",
    "    # 协程挂起时，事件循环可以去执行其他协程\n",
    "    response1 = await others()\n",
    "    print(\"IO1 请求结束，结果为：\", response1)\n",
    "    \n",
    "    response2 = await others()\n",
    "    print(\"IO2 请求结束，结果为：\", response2)    \n",
    "    \n",
    "asyncio.run(func())"
   ]
  },
  {
   "cell_type": "markdown",
   "metadata": {},
   "source": [
    "* await 等待对象的值得到结果后再继续往下走  "
   ]
  },
  {
   "cell_type": "markdown",
   "metadata": {},
   "source": [
    "## 3.4 Task 对象  "
   ]
  },
  {
   "cell_type": "markdown",
   "metadata": {},
   "source": [
    "* 在事件循环中添加多个任务  \n",
    "* Task 用于并发调度协程  \n",
    "* 通过 asyncio.create_task(协程对象) 的方式创建 Task 对象  \n",
    "* 可以让协程加入事件循环中等待被调度执行  \n",
    "* 除了使用 asyncio.create_task() 函数以外，还可以用低层级的 loop.create_task() 或 ensure_future() 函数  \n",
    "* asyncio.create_task() 函数在 Python 3.7 被加入，3.7 之前可以改用低层级的 asyncio.ensure_future() 函数  "
   ]
  },
  {
   "cell_type": "markdown",
   "metadata": {},
   "source": [
    "### 示例 1  "
   ]
  },
  {
   "cell_type": "code",
   "execution_count": null,
   "metadata": {},
   "outputs": [],
   "source": [
    "import asyncio\n",
    "\n",
    "\n",
    "async def func(mark):\n",
    "    print(1, mark)\n",
    "    await asyncio.sleep(2)\n",
    "    print(2, mark)\n",
    "    return \"返回值\"\n",
    "\n",
    "async def main():\n",
    "    print(\"main 开始\")\n",
    "    \n",
    "    # 创建 Task 对象，将当前执行 func 函数任务添加到事件循环\n",
    "    task1 = asyncio.create_task(func('task1'))\n",
    "    \n",
    "    # 创建 Task 对象，将当前执行 func 函数任务添加到事件循环\n",
    "    task2 = asyncio.create_task(func('task2'))\n",
    "    \n",
    "    print('main 结束')\n",
    "    # 当执行某协程遇到 IO 操作时，会自动化切换到其他任务\n",
    "    # 此处的 await 是等待相对应的协程全部执行完毕并获取结果\n",
    "    ret1 = await task1\n",
    "    ret2 = await task2\n",
    "    print(ret1, ret2)\n",
    "    \n",
    "# 事件循环中有 3 个任务，main() 和 两个 task 中的 func()\n",
    "asyncio.run(main())"
   ]
  },
  {
   "cell_type": "markdown",
   "metadata": {},
   "source": [
    "### 示例 2  "
   ]
  },
  {
   "cell_type": "code",
   "execution_count": null,
   "metadata": {},
   "outputs": [],
   "source": [
    "import asyncio\n",
    "\n",
    "\n",
    "async def func(mark):\n",
    "    print(1, mark)\n",
    "    await asyncio.sleep(2)\n",
    "    print(2, mark)\n",
    "    return \"返回值\"\n",
    "\n",
    "async def main():\n",
    "    print(\"main 开始\")\n",
    "    \n",
    "    task_list = [asyncio.create_task(func('task1')),\n",
    "                 asyncio.create_task(func('task2'))]\n",
    "    \n",
    "    print('main 结束')\n",
    "    \n",
    "    # done 执行完成的结果集合，pending 表示完成的状态\n",
    "    done, pending = await asyncio.wait(task_list, timeout=None)\n",
    "    print(done)\n",
    "    \n",
    "# 事件循环中有 3 个任务，main() 和 两个 task 中的 func()\n",
    "asyncio.run(main())"
   ]
  },
  {
   "cell_type": "code",
   "execution_count": null,
   "metadata": {},
   "outputs": [],
   "source": [
    "import asyncio\n",
    "\n",
    "\n",
    "async def func(mark):\n",
    "    print(1, mark)\n",
    "    await asyncio.sleep(2)\n",
    "    print(2, mark)\n",
    "    return \"返回值\"\n",
    "\n",
    "task_list = [func('task1'), func('task2')]\n",
    "    \n",
    "done, pending = asyncio.run(asyncio.wait(task_list))\n",
    "print(done)"
   ]
  },
  {
   "cell_type": "markdown",
   "metadata": {},
   "source": [
    "## 3.5 asyncio.Future 对象  "
   ]
  },
  {
   "cell_type": "markdown",
   "metadata": {},
   "source": [
    "* task 继承 Future，Task 对象内部 await 结果的处理基于 Future 对象  "
   ]
  },
  {
   "cell_type": "markdown",
   "metadata": {},
   "source": [
    "### 示例 1  "
   ]
  },
  {
   "cell_type": "markdown",
   "metadata": {},
   "source": [
    "```python\n",
    "import asyncio\n",
    "\n",
    "async def main():\n",
    "    # 获取当前事件循环\n",
    "    loop = asyncio.get_running_loop()\n",
    "    \n",
    "    # 创建一个任务（Future 对象）,这个任务什么都不干\n",
    "    fut = loop.create_future()\n",
    "    \n",
    "    # 等待任务最终结果（Future 对象），没有结果则会一直等下去\n",
    "    await fut\n",
    "    \n",
    "asyncio.run(main())\n",
    "```"
   ]
  },
  {
   "cell_type": "markdown",
   "metadata": {},
   "source": [
    "### 示例 2  "
   ]
  },
  {
   "cell_type": "code",
   "execution_count": null,
   "metadata": {},
   "outputs": [],
   "source": [
    "import asyncio\n",
    "\n",
    "async def set_after(fut):\n",
    "    await asyncio.sleep(2)\n",
    "    fut.set_result('hello')\n",
    "    \n",
    "async def main():\n",
    "    # 获取当前事件循环\n",
    "    loop = asyncio.get_running_loop()\n",
    "    \n",
    "    # 创建一个任务（Future 对象），没绑定任何行为，则这个任务永远不知道什么时候结束\n",
    "    fut = loop.create_future()\n",
    "    \n",
    "    # 创建一个任务（Task 对象），绑定了 set_after 函数，函数内部在 2s 之后，会给 fut 赋值\n",
    "    # 手动设置 future 任务的最终结果，fut 就可以结束了\n",
    "    await loop.create_task(set_after(fut))\n",
    "    \n",
    "    # 等待 Future 对象获取最终结果，否则一直等下去\n",
    "    data = await fut\n",
    "    print(data)\n",
    "    \n",
    "asyncio.run(main())"
   ]
  },
  {
   "cell_type": "markdown",
   "metadata": {},
   "source": [
    "## 3.6 concurrent.futures.Future 对象  "
   ]
  },
  {
   "cell_type": "markdown",
   "metadata": {},
   "source": [
    "### 使用线程池，进程池实现异步操作时用到的对象   "
   ]
  },
  {
   "cell_type": "code",
   "execution_count": null,
   "metadata": {},
   "outputs": [],
   "source": [
    "import time\n",
    "from concurrent.futures.thread import ThreadPoolExecutor\n",
    "\n",
    "\n",
    "def func(value):\n",
    "    time.sleep(1)\n",
    "    print(value)\n",
    "    return 123\n",
    "\n",
    "\n",
    "# 创建线程池\n",
    "pool = ThreadPoolExecutor(max_workers=5)\n",
    "\n",
    "for i in range(10):\n",
    "    fut = pool.submit(func, i)"
   ]
  },
  {
   "cell_type": "markdown",
   "metadata": {},
   "source": [
    "* 两种编程方式结合时，两种 Future 对象可能会同时出现  \n",
    "* 比如某个功能暂时不支持协程的写法又需要引入时  "
   ]
  },
  {
   "cell_type": "code",
   "execution_count": null,
   "metadata": {
    "tags": []
   },
   "outputs": [],
   "source": [
    "import asyncio\n",
    "import time\n",
    "\n",
    "\n",
    "def func1():\n",
    "    # 某个耗时的操作\n",
    "    time.sleep(2)\n",
    "    return \"finished\"\n",
    "\n",
    "\n",
    "async def main():\n",
    "    loop = asyncio.get_running_loop()\n",
    "\n",
    "    # 1. Run in the default loop's executor(默认 ThreadPoolExecutor)\n",
    "    # 第一步：内部先调用 ThreadPoolExecutor 的 submit 方法，去线程池中申请一个线程执行 func1 函数，返回一个 concurrent.futrues.Future 对象\n",
    "    # 第二步：调用 asyncio.wrap_future 将 concurrent.futures.Future 对象包装为 asyncio.Future 对象\n",
    "    # concurrent.futures.Future 对象不支持 await 语法，包装为 asyncio.Future 对象才能在协程中使用\n",
    "    fut = loop.run_in_executor(None, func1)\n",
    "    result = await fut\n",
    "    print(\"default thread pool\", result)\n",
    "\n",
    "\n",
    "asyncio.run(main())"
   ]
  },
  {
   "cell_type": "markdown",
   "metadata": {},
   "source": [
    "## 案例 asyncio + 不支持异步的模块  "
   ]
  },
  {
   "cell_type": "code",
   "execution_count": null,
   "metadata": {},
   "outputs": [],
   "source": [
    "import asyncio\n",
    "\n",
    "import requests\n",
    "\n",
    "\n",
    "async def download_image(url):\n",
    "    print(\"开始下载\", url)\n",
    "\n",
    "    loop = asyncio.get_event_loop()\n",
    "    # requests 模块默认不支持异步操作，使用线程池来配合实现\n",
    "    # 包装成 asyncio.Future 对象\n",
    "    future = loop.run_in_executor(None, requests.get, url)\n",
    "\n",
    "    # 发送网络请求，下载图片\n",
    "    response = await future\n",
    "    print(\"下载完成\")\n",
    "    # 图片保存到本地文件\n",
    "    file_name = url.rsplit('/')[-1]\n",
    "    print(file_name)\n",
    "    with open(file_name, mode='wb') as file_object:\n",
    "        file_object.write(response.content)\n",
    "\n",
    "\n",
    "if __name__ == '__main__':\n",
    "    url_list = ['https://www.apache.org/img/support-apache.jpg',\n",
    "                'https://www.python.org/static/img/python-logo.png',\n",
    "                'https://www.linux.org/images/logo.png']\n",
    "\n",
    "    tasks = [download_image(url) for url in url_list]\n",
    "\n",
    "    loop = asyncio.get_event_loop()\n",
    "    loop.run_until_complete(asyncio.wait(tasks))"
   ]
  },
  {
   "cell_type": "markdown",
   "metadata": {},
   "source": [
    "## 3.7 异步迭代器  "
   ]
  },
  {
   "cell_type": "code",
   "execution_count": null,
   "metadata": {},
   "outputs": [],
   "source": [
    "import asyncio\n",
    "\n",
    "\n",
    "class Reader(object):\n",
    "    \"\"\"自定义异步迭代器，同时也是异步可迭代对象\"\"\"\n",
    "\n",
    "    def __init__(self):\n",
    "        self.count = 0\n",
    "\n",
    "    async def readline(self):\n",
    "        # await asyncio.sleep(1)\n",
    "        self.count += 1\n",
    "        if self.count == 10:\n",
    "            return None\n",
    "        return self.count\n",
    "\n",
    "    def __aiter__(self):\n",
    "        return self\n",
    "\n",
    "    async def __anext__(self):\n",
    "        val = await self.readline()\n",
    "        if val == None:\n",
    "            raise StopAsyncIteration\n",
    "        return val\n",
    "\n",
    "\n",
    "async def func():\n",
    "    obj = Reader()\n",
    "    # async for 必须在 async 函数内执行\n",
    "    async for item in obj:\n",
    "        print(item)\n",
    "\n",
    "\n",
    "asyncio.run(func())"
   ]
  },
  {
   "cell_type": "markdown",
   "metadata": {},
   "source": [
    "## 3.8 异步上下文管理器"
   ]
  },
  {
   "cell_type": "markdown",
   "metadata": {},
   "source": [
    "* 通过定义 __aenter__() 和 __aexit__() 方法对 async with 语句中的环境进行控制  "
   ]
  },
  {
   "cell_type": "code",
   "execution_count": null,
   "metadata": {},
   "outputs": [],
   "source": [
    "import asyncio\n",
    "\n",
    "class AsyncContextManager:\n",
    "    def __init__(self):\n",
    "        #self.conn = conn\n",
    "        print()\n",
    "        \n",
    "    async def do_something(self):\n",
    "        # 异步操作数据库\n",
    "        return '数据库返回结果'\n",
    "    \n",
    "    async def __aenter__(self):\n",
    "        # 异步连接数据库\n",
    "#         self.conn = await asyncio.sleep(1)\n",
    "        return self\n",
    "    \n",
    "    async def __aexit__(self, exc_tye, exc, tb):\n",
    "        # 异步关闭数据库连接\n",
    "        await asyncio.sleep(1)\n",
    "\n",
    "async def func():\n",
    "    async with AsyncContextManager() as f:\n",
    "        result = await f.do_something()\n",
    "        print(result)\n",
    "        \n",
    "asyncio.run(func())"
   ]
  },
  {
   "cell_type": "markdown",
   "metadata": {},
   "source": [
    "# 4. uvloop  "
   ]
  },
  {
   "cell_type": "markdown",
   "metadata": {},
   "source": [
    "* asyncio 事件循环的替代方案  \n",
    "* 事件循环比默认 asyncio 事件循环更高  "
   ]
  },
  {
   "cell_type": "markdown",
   "metadata": {},
   "source": [
    "```python\n",
    "import asyncio\n",
    "import uvloop\n",
    "\n",
    "# uvloop 代替默认的 事件循环，其他代码写法与默认一致\n",
    "asyncio.set_event_loop_policy(uvloop.EventLoopPolicy())\n",
    "```  "
   ]
  },
  {
   "cell_type": "markdown",
   "metadata": {},
   "source": [
    "* uvicorn 内部使用的就是 uvloop  "
   ]
  },
  {
   "cell_type": "markdown",
   "metadata": {},
   "source": [
    "# 5. 实战案例  "
   ]
  },
  {
   "cell_type": "markdown",
   "metadata": {},
   "source": [
    "## 5.1 异步 redis  "
   ]
  },
  {
   "cell_type": "markdown",
   "metadata": {},
   "source": [
    "* 使用 python 代码操作 redis 时，连接、操作、断开都是 IO 操作  "
   ]
  },
  {
   "cell_type": "markdown",
   "metadata": {},
   "source": [
    "### 示例 1  "
   ]
  },
  {
   "cell_type": "code",
   "execution_count": null,
   "metadata": {},
   "outputs": [],
   "source": [
    "import asyncio\n",
    "import aioredis\n",
    "\n",
    "async def execute(address, password):\n",
    "    print('开始执行', address)\n",
    "    # 网络 IO 操作，创建 redis 连接\n",
    "    # 此时如果有其他任务，线程会切换到其他任务\n",
    "    redis = await aioredis.create_redis(address, password = password)\n",
    "    \n",
    "    # 网络 IO 操作，在 redis 中设置哈希值 car，内部设三个键值对\n",
    "    # redis = {car: {key1:1, key2:2, kye3:3}}\n",
    "    await redis.hmset_dict('car', key1=1, key2=2, key3=3)\n",
    "    \n",
    "    # 网络 IO 操作，去 redis 中获取值\n",
    "    result = await redis.hgetall('car', encoding='utf-8')\n",
    "    print(result)\n",
    "    \n",
    "    redis.close()\n",
    "    \n",
    "    # 网络 IO 操作，关闭 redis 连接\n",
    "    await redis.wait_closed()\n",
    "    \n",
    "    print(\"结束\", address)\n",
    "    \n",
    "asyncio.run(execute('redis://127.0.0.1:6379', \"test\"))"
   ]
  },
  {
   "cell_type": "markdown",
   "metadata": {},
   "source": [
    "### 示例2  "
   ]
  },
  {
   "cell_type": "code",
   "execution_count": null,
   "metadata": {},
   "outputs": [],
   "source": [
    "import asyncio\n",
    "import aioredis\n",
    "\n",
    "async def execute(address, password):\n",
    "    print('开始执行', address)\n",
    "    # 网络 IO 操作，创建 redis 连接\n",
    "    # 此时如果有其他任务，线程会切换到其他任务\n",
    "    redis = await aioredis.create_redis(address, password = password)\n",
    "    \n",
    "    # 网络 IO 操作，在 redis 中设置哈希值 car，内部设三个键值对\n",
    "    # redis = {car: {key1:1, key2:2, kye3:3}}\n",
    "    await redis.hmset_dict('car', key1=1, key2=2, key3=3)\n",
    "    \n",
    "    # 网络 IO 操作，去 redis 中获取值\n",
    "    result = await redis.hgetall('car', encoding='utf-8')\n",
    "    print(result)\n",
    "    \n",
    "    redis.close()\n",
    "    \n",
    "    # 网络 IO 操作，关闭 redis 连接\n",
    "    await redis.wait_closed()\n",
    "    \n",
    "    print(\"结束\", address)\n",
    "    \n",
    "task_list = [execute('redis://127.0.0.1:6379', 'test'),\n",
    "            execute('redis://127.0.0.1:6379', 'test')]\n",
    "\n",
    "asyncio.run(asyncio.wait(task_list))"
   ]
  },
  {
   "cell_type": "markdown",
   "metadata": {},
   "source": [
    "## 5.2 异步 MySQL  "
   ]
  },
  {
   "cell_type": "code",
   "execution_count": null,
   "metadata": {},
   "outputs": [],
   "source": [
    "import asyncio\n",
    "import aiomysql\n",
    "\n",
    "async def execute():\n",
    "    # 网络 IO 操作，连接 MySQL\n",
    "    conn = await aiomysql.connect(host='127.0.0.1', port=3306, user='root', password='root', db='mysql')\n",
    "    \n",
    "    # 网络 IO 操作，创建 cursor\n",
    "    cur = await conn.cursor()\n",
    "    \n",
    "    # 网络 IO 操作，执行 SQL\n",
    "    await cur.execute('SELECT Host, User FROM user')\n",
    "    \n",
    "    # 网络 IO 操作，获取 SQL 结果\n",
    "    result = await cur.fetchall()\n",
    "    print(result)\n",
    "    \n",
    "    # 网络 IO 操作，关闭连接\n",
    "    await cur.close()\n",
    "    conn.close()\n",
    "    \n",
    "asyncio.run(execute())"
   ]
  },
  {
   "cell_type": "code",
   "execution_count": null,
   "metadata": {},
   "outputs": [],
   "source": [
    "import asyncio\n",
    "import aiomysql\n",
    "\n",
    "async def execute():\n",
    "    # 网络 IO 操作，连接 MySQL\n",
    "    conn = await aiomysql.connect(host='127.0.0.1', port=3306, user='root', password='root', db='mysql')\n",
    "    \n",
    "    # 网络 IO 操作，创建 cursor\n",
    "    cur = await conn.cursor()\n",
    "    \n",
    "    # 网络 IO 操作，执行 SQL\n",
    "    await cur.execute('SELECT Host, User FROM user')\n",
    "    \n",
    "    # 网络 IO 操作，获取 SQL 结果\n",
    "    result = await cur.fetchall()\n",
    "    print(result)\n",
    "    \n",
    "    # 网络 IO 操作，关闭连接\n",
    "    await cur.close()\n",
    "    conn.close()\n",
    "\n",
    "task_list=[execute(), execute()]\n",
    "asyncio.run(asyncio.wait(task_list))"
   ]
  },
  {
   "cell_type": "markdown",
   "metadata": {},
   "source": [
    "## 5.3 FastAPI 框架  "
   ]
  },
  {
   "cell_type": "markdown",
   "metadata": {},
   "source": [
    "### 示例 1  "
   ]
  },
  {
   "cell_type": "markdown",
   "metadata": {},
   "source": [
    "```python\n",
    "import uvicorn\n",
    "from fastapi import FastAPI\n",
    "\n",
    "app = FastAPI()\n",
    "\n",
    "\n",
    "@app.get(\"/\")\n",
    "def index():\n",
    "    \"\"\"普通操作接口\"\"\"\n",
    "    # 某个 IO 操作 10s\n",
    "    return {\"message\", \"Hello world\"}\n",
    "\n",
    "\n",
    "if __name__ == '__main__':\n",
    "    uvicorn.run(\"fastapi_example1:app\", host=\"127.0.0.1\", port=5000, log_level=\"info\")\n",
    "```"
   ]
  },
  {
   "cell_type": "code",
   "execution_count": null,
   "metadata": {},
   "outputs": [],
   "source": [
    "# 执行示例 1 的 py 文件\n",
    "%run fastapi_example1.py"
   ]
  },
  {
   "cell_type": "markdown",
   "metadata": {},
   "source": [
    "### 示例 2  "
   ]
  },
  {
   "cell_type": "markdown",
   "metadata": {},
   "source": [
    "```python\n",
    "import asyncio\n",
    "\n",
    "import aioredis\n",
    "import uvicorn\n",
    "from aioredis import Redis\n",
    "from fastapi import FastAPI\n",
    "\n",
    "app = FastAPI()\n",
    "\n",
    "# 创建 redis 连接池\n",
    "REDIS_POOL = aioredis.ConnectionsPool('redis://127.0.0.1:6379', password='test', minsize=1, maxsize=10)\n",
    "\n",
    "\n",
    "@app.get(\"/\")\n",
    "def index():\n",
    "    \"\"\"普通操作接口\"\"\"\n",
    "    # 某个 IO 操作 10s\n",
    "    return {\"message\", \"Hello world\"}\n",
    "\n",
    "\n",
    "@app.get('/red')\n",
    "async def red():\n",
    "    \"\"\"异步操作接口\"\"\"\n",
    "\n",
    "    print(\"请求来了\")\n",
    "\n",
    "    await asyncio.sleep(3)\n",
    "\n",
    "    # 连接池获取一个连接\n",
    "    conn = await REDIS_POOL.acquire()\n",
    "    redis = Redis(conn)\n",
    "\n",
    "    # 设置值\n",
    "    result = await redis.hgetall('car', encoding='utf-8')\n",
    "    print(result)\n",
    "\n",
    "    REDIS_POOL.release(conn)\n",
    "\n",
    "    return result\n",
    "\n",
    "\n",
    "if __name__ == '__main__':\n",
    "    uvicorn.run(\"fastapi_example2:app\", host=\"127.0.0.1\", port=5000, log_level=\"info\")\n",
    "\n",
    "```"
   ]
  },
  {
   "cell_type": "code",
   "execution_count": null,
   "metadata": {},
   "outputs": [],
   "source": [
    "%run fastapi_example2.py"
   ]
  },
  {
   "cell_type": "markdown",
   "metadata": {},
   "source": [
    "## 5.4 爬虫  "
   ]
  },
  {
   "cell_type": "code",
   "execution_count": null,
   "metadata": {},
   "outputs": [],
   "source": [
    "import asyncio\n",
    "\n",
    "import aiohttp\n",
    "\n",
    "\n",
    "async def fetch(session, url):\n",
    "    print(\"发送请求\", url)\n",
    "    async with session.get(url, verify_ssl=False) as response:\n",
    "        text = await response.text()\n",
    "        print(\"得到结果\", url, len(text))\n",
    "        return text\n",
    "\n",
    "\n",
    "async def main():\n",
    "    async with aiohttp.ClientSession() as session:\n",
    "        url_list = [\n",
    "            'https://python.org',\n",
    "            'https://www.baidu.com',\n",
    "            'https://www.linux.org'\n",
    "        ]\n",
    "\n",
    "        tasks = [asyncio.create_task(fetch(session, url)) for url in url_list]\n",
    "\n",
    "        done, pending = await asyncio.wait(tasks)\n",
    "        print(done)\n",
    "\n",
    "if __name__ == '__main__':\n",
    "    asyncio.run(main())\n"
   ]
  },
  {
   "cell_type": "markdown",
   "metadata": {},
   "source": [
    "# 总结  "
   ]
  },
  {
   "cell_type": "markdown",
   "metadata": {},
   "source": [
    "* 最大的意义：通过一个线程 IO 等待时间去做其他事情  "
   ]
  }
 ],
 "metadata": {
  "kernelspec": {
   "display_name": "Python 3",
   "language": "python",
   "name": "python3"
  },
  "language_info": {
   "codemirror_mode": {
    "name": "ipython",
    "version": 3
   },
   "file_extension": ".py",
   "mimetype": "text/x-python",
   "name": "python",
   "nbconvert_exporter": "python",
   "pygments_lexer": "ipython3",
   "version": "3.7.6"
  },
  "toc-autonumbering": false,
  "toc-showmarkdowntxt": false,
  "toc-showtags": false
 },
 "nbformat": 4,
 "nbformat_minor": 4
}
